{
 "cells": [
  {
   "cell_type": "code",
   "execution_count": 1,
   "metadata": {},
   "outputs": [
    {
     "name": "stdout",
     "output_type": "stream",
     "text": [
      "env: KERAS_BACKEND=tensorflow\n"
     ]
    }
   ],
   "source": [
    "%env KERAS_BACKEND=tensorflow"
   ]
  },
  {
   "cell_type": "code",
   "execution_count": 2,
   "metadata": {
    "collapsed": true
   },
   "outputs": [],
   "source": [
    "%matplotlib inline\n",
    "import numpy as np\n",
    "import matplotlib.pyplot as plt\n",
    "\n"
   ]
  },
  {
   "cell_type": "code",
   "execution_count": 3,
   "metadata": {},
   "outputs": [
    {
     "name": "stderr",
     "output_type": "stream",
     "text": [
      "/Users/James/anaconda/lib/python3.6/site-packages/h5py/__init__.py:34: FutureWarning: Conversion of the second argument of issubdtype from `float` to `np.floating` is deprecated. In future, it will be treated as `np.float64 == np.dtype(float).type`.\n",
      "  from ._conv import register_converters as _register_converters\n",
      "Using TensorFlow backend.\n"
     ]
    }
   ],
   "source": [
    "from keras.datasets import mnist"
   ]
  },
  {
   "cell_type": "code",
   "execution_count": 4,
   "metadata": {
    "collapsed": true
   },
   "outputs": [],
   "source": [
    "(x_train, y_train), (x_test, y_test)= mnist.load_data()"
   ]
  },
  {
   "cell_type": "code",
   "execution_count": 5,
   "metadata": {
    "collapsed": true
   },
   "outputs": [],
   "source": [
    "x_train = x_train.reshape(60000, 784)   #輸入輸出格式整理\n",
    "x_test = x_test.reshape(10000,784)"
   ]
  },
  {
   "cell_type": "code",
   "execution_count": 6,
   "metadata": {
    "collapsed": true
   },
   "outputs": [],
   "source": [
    "from keras.utils import np_utils"
   ]
  },
  {
   "cell_type": "code",
   "execution_count": 7,
   "metadata": {
    "collapsed": true
   },
   "outputs": [],
   "source": [
    "y_train = np_utils.to_categorical(y_train, 10)\n",
    "y_test = np_utils.to_categorical(y_test, 10)"
   ]
  },
  {
   "cell_type": "code",
   "execution_count": 22,
   "metadata": {
    "collapsed": true
   },
   "outputs": [],
   "source": [
    "from keras.models import Sequential\n",
    "from keras.layers import Dense, Activation \n",
    "from keras.optimizers import SGD #優化器\n",
    "from keras.optimizers import Adadelta #優化器"
   ]
  },
  {
   "cell_type": "code",
   "execution_count": 23,
   "metadata": {
    "collapsed": true
   },
   "outputs": [],
   "source": [
    "model = Sequential()   #建立一個空的神經網路"
   ]
  },
  {
   "cell_type": "code",
   "execution_count": 24,
   "metadata": {
    "collapsed": true
   },
   "outputs": [],
   "source": [
    "model.add(Dense(700,input_dim=784)) #第一層隱藏層\n",
    "model.add(Activation('tanh'))"
   ]
  },
  {
   "cell_type": "code",
   "execution_count": 25,
   "metadata": {
    "collapsed": true
   },
   "outputs": [],
   "source": [
    "model.add(Dense(700))         #第二層隱藏層\n",
    "model.add(Activation('tanh'))"
   ]
  },
  {
   "cell_type": "code",
   "execution_count": 26,
   "metadata": {
    "collapsed": true
   },
   "outputs": [],
   "source": [
    "model.add(Dense(700))         #第三層隱藏層\n",
    "model.add(Activation('tanh'))"
   ]
  },
  {
   "cell_type": "code",
   "execution_count": 27,
   "metadata": {
    "collapsed": true
   },
   "outputs": [],
   "source": [
    "model.add(Dense(10))          #10個神經元的輸出\n",
    "model.add(Activation('softmax'))  #使機率合為1"
   ]
  },
  {
   "cell_type": "code",
   "execution_count": 28,
   "metadata": {
    "collapsed": true
   },
   "outputs": [],
   "source": [
    "model.compile(loss='mse', optimizer=Adadelta(lr=0.3),metrics=['accuracy'])"
   ]
  },
  {
   "cell_type": "code",
   "execution_count": 29,
   "metadata": {},
   "outputs": [
    {
     "name": "stdout",
     "output_type": "stream",
     "text": [
      "_________________________________________________________________\n",
      "Layer (type)                 Output Shape              Param #   \n",
      "=================================================================\n",
      "dense_8 (Dense)              (None, 700)               549500    \n",
      "_________________________________________________________________\n",
      "activation_8 (Activation)    (None, 700)               0         \n",
      "_________________________________________________________________\n",
      "dense_9 (Dense)              (None, 700)               490700    \n",
      "_________________________________________________________________\n",
      "activation_9 (Activation)    (None, 700)               0         \n",
      "_________________________________________________________________\n",
      "dense_10 (Dense)             (None, 700)               490700    \n",
      "_________________________________________________________________\n",
      "activation_10 (Activation)   (None, 700)               0         \n",
      "_________________________________________________________________\n",
      "dense_11 (Dense)             (None, 10)                7010      \n",
      "_________________________________________________________________\n",
      "activation_11 (Activation)   (None, 10)                0         \n",
      "=================================================================\n",
      "Total params: 1,537,910\n",
      "Trainable params: 1,537,910\n",
      "Non-trainable params: 0\n",
      "_________________________________________________________________\n"
     ]
    }
   ],
   "source": [
    "model.summary()"
   ]
  },
  {
   "cell_type": "code",
   "execution_count": 30,
   "metadata": {},
   "outputs": [
    {
     "name": "stdout",
     "output_type": "stream",
     "text": [
      "Epoch 1/25\n",
      "60000/60000 [==============================] - 9s 153us/step - loss: 0.0219 - acc: 0.8569\n",
      "Epoch 2/25\n",
      "60000/60000 [==============================] - 9s 151us/step - loss: 0.0114 - acc: 0.9264\n",
      "Epoch 3/25\n",
      "60000/60000 [==============================] - 9s 151us/step - loss: 0.0093 - acc: 0.9406\n",
      "Epoch 4/25\n",
      "60000/60000 [==============================] - 9s 148us/step - loss: 0.0080 - acc: 0.9491\n",
      "Epoch 5/25\n",
      "60000/60000 [==============================] - 9s 149us/step - loss: 0.0071 - acc: 0.9556\n",
      "Epoch 6/25\n",
      "60000/60000 [==============================] - 9s 150us/step - loss: 0.0063 - acc: 0.9603\n",
      "Epoch 7/25\n",
      "60000/60000 [==============================] - 9s 148us/step - loss: 0.0057 - acc: 0.9640\n",
      "Epoch 8/25\n",
      "60000/60000 [==============================] - 9s 151us/step - loss: 0.0052 - acc: 0.9683\n",
      "Epoch 9/25\n",
      "60000/60000 [==============================] - 10s 161us/step - loss: 0.0047 - acc: 0.9709\n",
      "Epoch 10/25\n",
      "60000/60000 [==============================] - 10s 166us/step - loss: 0.0043 - acc: 0.9747\n",
      "Epoch 11/25\n",
      "60000/60000 [==============================] - 9s 150us/step - loss: 0.0039 - acc: 0.9766\n",
      "Epoch 12/25\n",
      "60000/60000 [==============================] - ETA: 0s - loss: 0.0035 - acc: 0.979 - 9s 154us/step - loss: 0.0035 - acc: 0.9793\n",
      "Epoch 13/25\n",
      "60000/60000 [==============================] - 9s 158us/step - loss: 0.0033 - acc: 0.9809\n",
      "Epoch 14/25\n",
      "60000/60000 [==============================] - 9s 158us/step - loss: 0.0031 - acc: 0.9818\n",
      "Epoch 15/25\n",
      "60000/60000 [==============================] - 9s 151us/step - loss: 0.0028 - acc: 0.9837\n",
      "Epoch 16/25\n",
      "60000/60000 [==============================] - 9s 156us/step - loss: 0.0026 - acc: 0.9856\n",
      "Epoch 17/25\n",
      "60000/60000 [==============================] - 9s 150us/step - loss: 0.0024 - acc: 0.9866\n",
      "Epoch 18/25\n",
      "60000/60000 [==============================] - 9s 156us/step - loss: 0.0022 - acc: 0.9879\n",
      "Epoch 19/25\n",
      "60000/60000 [==============================] - 9s 157us/step - loss: 0.0020 - acc: 0.9888\n",
      "Epoch 20/25\n",
      "60000/60000 [==============================] - 9s 158us/step - loss: 0.0019 - acc: 0.9897\n",
      "Epoch 21/25\n",
      "60000/60000 [==============================] - 10s 160us/step - loss: 0.0017 - acc: 0.9905\n",
      "Epoch 22/25\n",
      "60000/60000 [==============================] - 9s 147us/step - loss: 0.0016 - acc: 0.9914\n",
      "Epoch 23/25\n",
      "60000/60000 [==============================] - 9s 151us/step - loss: 0.0014 - acc: 0.9923\n",
      "Epoch 24/25\n",
      "60000/60000 [==============================] - 11s 175us/step - loss: 0.0013 - acc: 0.9934\n",
      "Epoch 25/25\n",
      "60000/60000 [==============================] - 9s 143us/step - loss: 0.0012 - acc: 0.9937\n"
     ]
    },
    {
     "data": {
      "text/plain": [
       "<keras.callbacks.History at 0xb1f53d438>"
      ]
     },
     "execution_count": 30,
     "metadata": {},
     "output_type": "execute_result"
    }
   ],
   "source": [
    "model.fit(x_train, y_train, batch_size=120, epochs=25)  #訓練神經網路"
   ]
  },
  {
   "cell_type": "code",
   "execution_count": 31,
   "metadata": {
    "collapsed": true
   },
   "outputs": [],
   "source": [
    "from ipywidgets import interact_manual"
   ]
  },
  {
   "cell_type": "code",
   "execution_count": 32,
   "metadata": {
    "collapsed": true
   },
   "outputs": [],
   "source": [
    "predict = model.predict_classes(x_test)"
   ]
  },
  {
   "cell_type": "code",
   "execution_count": 33,
   "metadata": {
    "collapsed": true
   },
   "outputs": [],
   "source": [
    "def test(測試編號):\n",
    "    plt.imshow(x_test[測試編號].reshape(28,28),cmap='Greys')\n",
    "    print('神經網路判斷為：',predict[測試編號])"
   ]
  },
  {
   "cell_type": "code",
   "execution_count": 35,
   "metadata": {},
   "outputs": [
    {
     "data": {
      "application/vnd.jupyter.widget-view+json": {
       "model_id": "a0b6b1606a454a58b263459e160b5a0d"
      }
     },
     "metadata": {},
     "output_type": "display_data"
    }
   ],
   "source": [
    "interact_manual(test, 測試編號 = (0,9999));"
   ]
  },
  {
   "cell_type": "code",
   "execution_count": 36,
   "metadata": {
    "collapsed": true
   },
   "outputs": [],
   "source": [
    "#儲存神經網路\n",
    "HW_2 = model.to_json()\n",
    "open('handwriting_model_HW2.json' ,'w').write(HW_2)\n",
    "model.save_weights('handwriting_model_HW2_weights.h5')"
   ]
  },
  {
   "cell_type": "code",
   "execution_count": null,
   "metadata": {
    "collapsed": true
   },
   "outputs": [],
   "source": []
  }
 ],
 "metadata": {
  "kernelspec": {
   "display_name": "Python 3",
   "language": "python",
   "name": "python3"
  },
  "language_info": {
   "codemirror_mode": {
    "name": "ipython",
    "version": 3
   },
   "file_extension": ".py",
   "mimetype": "text/x-python",
   "name": "python",
   "nbconvert_exporter": "python",
   "pygments_lexer": "ipython3",
   "version": "3.6.1"
  }
 },
 "nbformat": 4,
 "nbformat_minor": 2
}
