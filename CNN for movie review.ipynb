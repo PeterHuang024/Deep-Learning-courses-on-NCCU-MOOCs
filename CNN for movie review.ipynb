{
 "cells": [
  {
   "cell_type": "code",
   "execution_count": 54,
   "metadata": {},
   "outputs": [
    {
     "name": "stdout",
     "output_type": "stream",
     "text": [
      "env: KERAS_BACKEND=tensorflow\n"
     ]
    }
   ],
   "source": [
    "%env KERAS_BACKEND=tensorflow\n",
    "%matplotlib inline\n",
    "import numpy as np\n",
    "import matplotlib.pyplot as plt\n",
    "from keras.datasets import imdb"
   ]
  },
  {
   "cell_type": "code",
   "execution_count": 55,
   "metadata": {
    "collapsed": true
   },
   "outputs": [],
   "source": [
    "#從keras讀進dataset\n",
    "(x_train, y_train),(x_test, y_test)= imdb.load_data(num_words=10000)"
   ]
  },
  {
   "cell_type": "code",
   "execution_count": 56,
   "metadata": {
    "collapsed": true
   },
   "outputs": [],
   "source": [
    "from keras.preprocessing import sequence"
   ]
  },
  {
   "cell_type": "code",
   "execution_count": 57,
   "metadata": {},
   "outputs": [
    {
     "data": {
      "text/plain": [
       "25000"
      ]
     },
     "execution_count": 57,
     "metadata": {},
     "output_type": "execute_result"
    }
   ],
   "source": [
    "#資料大小\n",
    "len(x_train)"
   ]
  },
  {
   "cell_type": "code",
   "execution_count": 58,
   "metadata": {},
   "outputs": [
    {
     "data": {
      "text/plain": [
       "25000"
      ]
     },
     "execution_count": 58,
     "metadata": {},
     "output_type": "execute_result"
    }
   ],
   "source": [
    "#資料大小\n",
    "len(x_test)"
   ]
  },
  {
   "cell_type": "code",
   "execution_count": 59,
   "metadata": {},
   "outputs": [
    {
     "name": "stdout",
     "output_type": "stream",
     "text": [
      "218,189,141,550,147,43,123,562,233,130,"
     ]
    }
   ],
   "source": [
    "#前十個資料大小\n",
    "for i in range(10):\n",
    "    print(len(x_train[i]),end=',')"
   ]
  },
  {
   "cell_type": "code",
   "execution_count": 60,
   "metadata": {},
   "outputs": [
    {
     "data": {
      "text/plain": [
       "array([1, 0, 0, 1, 0, 0, 1, 0, 1, 0])"
      ]
     },
     "execution_count": 60,
     "metadata": {},
     "output_type": "execute_result"
    }
   ],
   "source": [
    "#答案長相\n",
    "y_train[:10]"
   ]
  },
  {
   "cell_type": "code",
   "execution_count": 76,
   "metadata": {
    "collapsed": true
   },
   "outputs": [],
   "source": [
    "x_train= sequence.pad_sequences(x_train, maxlen=120)\n",
    "x_test= sequence.pad_sequences(x_test, maxlen=120)"
   ]
  },
  {
   "cell_type": "code",
   "execution_count": 77,
   "metadata": {
    "collapsed": true
   },
   "outputs": [],
   "source": [
    "from keras.models import Sequential\n",
    "from keras.layers import Dense, Embedding\n",
    "from keras.layers import LSTM,Dense,Flatten"
   ]
  },
  {
   "cell_type": "code",
   "execution_count": 78,
   "metadata": {
    "collapsed": true
   },
   "outputs": [],
   "source": [
    "model=Sequential()"
   ]
  },
  {
   "cell_type": "code",
   "execution_count": 79,
   "metadata": {
    "collapsed": true
   },
   "outputs": [],
   "source": [
    "model.add(Embedding(10000,128,input_length=120))"
   ]
  },
  {
   "cell_type": "code",
   "execution_count": 80,
   "metadata": {
    "collapsed": true
   },
   "outputs": [],
   "source": [
    "model.add(Flatten())"
   ]
  },
  {
   "cell_type": "code",
   "execution_count": 81,
   "metadata": {
    "collapsed": true
   },
   "outputs": [],
   "source": [
    "model.add(Dense(1500))"
   ]
  },
  {
   "cell_type": "code",
   "execution_count": 82,
   "metadata": {
    "collapsed": true
   },
   "outputs": [],
   "source": [
    "model.add(Dense(1, activation='sigmoid'))"
   ]
  },
  {
   "cell_type": "code",
   "execution_count": 83,
   "metadata": {},
   "outputs": [
    {
     "name": "stdout",
     "output_type": "stream",
     "text": [
      "_________________________________________________________________\n",
      "Layer (type)                 Output Shape              Param #   \n",
      "=================================================================\n",
      "embedding_7 (Embedding)      (None, 120, 128)          1280000   \n",
      "_________________________________________________________________\n",
      "flatten_5 (Flatten)          (None, 15360)             0         \n",
      "_________________________________________________________________\n",
      "dense_8 (Dense)              (None, 1500)              23041500  \n",
      "_________________________________________________________________\n",
      "dense_9 (Dense)              (None, 1)                 1501      \n",
      "=================================================================\n",
      "Total params: 24,323,001\n",
      "Trainable params: 24,323,001\n",
      "Non-trainable params: 0\n",
      "_________________________________________________________________\n"
     ]
    }
   ],
   "source": [
    "#模型架構\n",
    "model.summary()"
   ]
  },
  {
   "cell_type": "code",
   "execution_count": 84,
   "metadata": {
    "collapsed": true
   },
   "outputs": [],
   "source": [
    "model.compile(loss='binary_crossentropy', optimizer='adam',metrics=['accuracy'])"
   ]
  },
  {
   "cell_type": "code",
   "execution_count": 89,
   "metadata": {},
   "outputs": [
    {
     "name": "stdout",
     "output_type": "stream",
     "text": [
      "Epoch 1/15\n",
      "25000/25000 [==============================] - 222s 9ms/step - loss: 0.0063 - acc: 0.9980\n",
      "Epoch 2/15\n",
      "25000/25000 [==============================] - 219s 9ms/step - loss: 0.0069 - acc: 0.9980\n",
      "Epoch 3/15\n",
      "25000/25000 [==============================] - 219s 9ms/step - loss: 0.0101 - acc: 0.9979\n",
      "Epoch 4/15\n",
      "25000/25000 [==============================] - 216s 9ms/step - loss: 0.0167 - acc: 0.9957\n",
      "Epoch 5/15\n",
      "25000/25000 [==============================] - 221s 9ms/step - loss: 0.0105 - acc: 0.9974\n",
      "Epoch 6/15\n",
      "25000/25000 [==============================] - 220s 9ms/step - loss: 0.0073 - acc: 0.9981\n",
      "Epoch 7/15\n",
      "25000/25000 [==============================] - 220s 9ms/step - loss: 0.0259 - acc: 0.9947\n",
      "Epoch 8/15\n",
      "25000/25000 [==============================] - 220s 9ms/step - loss: 0.0098 - acc: 0.9978\n",
      "Epoch 9/15\n",
      "25000/25000 [==============================] - 221s 9ms/step - loss: 0.0057 - acc: 0.9987\n",
      "Epoch 10/15\n",
      "25000/25000 [==============================] - 221s 9ms/step - loss: 0.0104 - acc: 0.9978\n",
      "Epoch 11/15\n",
      "25000/25000 [==============================] - 220s 9ms/step - loss: 0.0167 - acc: 0.9968\n",
      "Epoch 12/15\n",
      "25000/25000 [==============================] - 221s 9ms/step - loss: 0.0135 - acc: 0.9975\n",
      "Epoch 13/15\n",
      "25000/25000 [==============================] - 234s 9ms/step - loss: 0.0156 - acc: 0.9973\n",
      "Epoch 14/15\n",
      "25000/25000 [==============================] - 271s 11ms/step - loss: 0.0116 - acc: 0.9974\n",
      "Epoch 15/15\n",
      "25000/25000 [==============================] - 274s 11ms/step - loss: 0.0089 - acc: 0.9982\n"
     ]
    },
    {
     "data": {
      "text/plain": [
       "<keras.callbacks.History at 0xb3900af28>"
      ]
     },
     "execution_count": 89,
     "metadata": {},
     "output_type": "execute_result"
    }
   ],
   "source": [
    "model.fit(x_train, y_train, batch_size=32,epochs=15)"
   ]
  },
  {
   "cell_type": "code",
   "execution_count": 90,
   "metadata": {},
   "outputs": [
    {
     "name": "stdout",
     "output_type": "stream",
     "text": [
      "25000/25000 [==============================] - 19s 742us/step\n"
     ]
    }
   ],
   "source": [
    "score = model.evaluate(x_test, y_test)"
   ]
  },
  {
   "cell_type": "code",
   "execution_count": 91,
   "metadata": {},
   "outputs": [
    {
     "name": "stdout",
     "output_type": "stream",
     "text": [
      "測試資料的 loss 2.3735771354143322\n",
      "測試資料的正確率 0.8022\n"
     ]
    }
   ],
   "source": [
    "print('測試資料的 loss',score[0])\n",
    "print('測試資料的正確率',score[1])"
   ]
  },
  {
   "cell_type": "code",
   "execution_count": null,
   "metadata": {
    "collapsed": true
   },
   "outputs": [],
   "source": [
    "#儲存model\n",
    "model.save('wk4myrnn-1.h5')"
   ]
  },
  {
   "cell_type": "code",
   "execution_count": null,
   "metadata": {
    "collapsed": true
   },
   "outputs": [],
   "source": []
  }
 ],
 "metadata": {
  "kernelspec": {
   "display_name": "Python 3",
   "language": "python",
   "name": "python3"
  },
  "language_info": {
   "codemirror_mode": {
    "name": "ipython",
    "version": 3
   },
   "file_extension": ".py",
   "mimetype": "text/x-python",
   "name": "python",
   "nbconvert_exporter": "python",
   "pygments_lexer": "ipython3",
   "version": "3.6.7"
  }
 },
 "nbformat": 4,
 "nbformat_minor": 2
}
